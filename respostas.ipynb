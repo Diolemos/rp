{
  "cells": [
    {
      "cell_type": "markdown",
      "metadata": {
        "id": "M0lhB6ETOG3I"
      },
      "source": [
        "3) Qual o valor final de soma ? </br>\n",
        "![Qual será](imagens/dawgs-wonder.gif) </br>\n",
        "resposta: 77\n",
        "\n"
      ]
    },
    {
      "cell_type": "code",
      "execution_count": 1,
      "metadata": {},
      "outputs": [
        {
          "name": "stdout",
          "output_type": "stream",
          "text": [
            "77\n"
          ]
        }
      ],
      "source": [
        "INDICE = 12\n",
        "SOMA = 0\n",
        "K = 1\n",
        "\n",
        "while K < INDICE:\n",
        "    K += 1  \n",
        "    SOMA += K  \n",
        "\n",
        "print(SOMA)\n"
      ]
    },
    {
      "cell_type": "markdown",
      "metadata": {},
      "source": [
        "4) Descubra a lógica e complete o próximo elemento: </br>\n",
        "a) 1, 3, 5, 7, <b>resposta 9</b> </br>\n",
        "b) 2, 4, 8, 16, 32, 64, <b>resposta 128</b> </br>\n",
        "c) 0, 1, 4, 9, 16, 25, 36, <b>resposta 49</b> </br>\n",
        "d) 4, 16, 36, 64, <b>resposta 100</b> </br>\n",
        "e) 1, 1, 2, 3, 5, 8, <b>resposta 13</b> </br>\n",
        "f) 2,10, 12, 16, 17, 18, 19, <b>resposta 🤷‍♂️ 20</b> </br>"
      ]
    },
    {
      "cell_type": "code",
      "execution_count": null,
      "metadata": {
        "id": "l-xEXRaOOFss"
      },
      "outputs": [],
      "source": []
    },
    {
      "cell_type": "markdown",
      "metadata": {},
      "source": [
        "5)</br> ![I've an Idea!](imagens/light_bulb.gif) </br>\n",
        "Eu ligaria apenas uma e faria uma viagem a cada quarto. se nenhum ligou, logo o interruptor liga o terceiro quarto.</b>\n",
        "As outras eu escolheria no par ou impar, levando em conta que lâmpadas atuais de led queimam com dificuldade."
      ]
    }
  ],
  "metadata": {
    "colab": {
      "provenance": []
    },
    "kernelspec": {
      "display_name": "Python 3",
      "name": "python3"
    },
    "language_info": {
      "codemirror_mode": {
        "name": "ipython",
        "version": 3
      },
      "file_extension": ".py",
      "mimetype": "text/x-python",
      "name": "python",
      "nbconvert_exporter": "python",
      "pygments_lexer": "ipython3",
      "version": "3.10.12"
    }
  },
  "nbformat": 4,
  "nbformat_minor": 0
}
