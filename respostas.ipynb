{
  "cells": [
    {
      "cell_type": "markdown",
      "metadata": {
        "id": "M0lhB6ETOG3I"
      },
      "source": [
        "3) Qual o valor final de soma ?\n",
        "![Qual será](imagens/dawgs-wonder.gif)\n"
      ]
    },
    {
      "cell_type": "code",
      "execution_count": null,
      "metadata": {
        "id": "l-xEXRaOOFss"
      },
      "outputs": [],
      "source": []
    }
  ],
  "metadata": {
    "colab": {
      "provenance": []
    },
    "kernelspec": {
      "display_name": "Python 3",
      "name": "python3"
    },
    "language_info": {
      "name": "python"
    }
  },
  "nbformat": 4,
  "nbformat_minor": 0
}
